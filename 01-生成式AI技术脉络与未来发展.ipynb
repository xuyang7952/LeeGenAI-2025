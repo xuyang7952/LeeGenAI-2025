{
 "cells": [
  {
   "cell_type": "markdown",
   "metadata": {},
   "source": [
    "# 第一讲-生成式人工智能的技术突破与未来发展\n",
    "\n",
    "## 课程信息\n",
    "- **讲师**: 李宏毅 (Hung-yi Lee)\n",
    "- **预习资源**:\n",
    "  - [生成式AI导论2024](https://www.youtube.com/playlist?list=PLJV_el3uVTsMhtt7_Y6sgTHGHp1Vb2P2J)\n",
    "  - [机器学习2021](https://www.youtube.com/playlist?list=PLOctvBMcDOXM5cXfZ9tWQzDgUwOh8xT0d)\n",
    "\n"
   ]
  },
  {
   "cell_type": "markdown",
   "metadata": {},
   "source": [
    "## 课程大纲\n",
    "\n",
    "### 生成式人工智能(Generative AI)基本原理\n",
    "- **复杂对象由有限的基本单位构成**\n",
    "  - Token的概念：可以是文字、影像或语音等。\n",
    "    - 示例：`deep learning is very powerful`\n",
    "    - 树状结构表示方法：\n",
    "      ```plaintext\n",
    "      (S (NP deep learning)(VP is (ADJV very powerful)))\n",
    "\n",
    "### Transformer-自回归生成(Autoregressive Generation)\n",
    "- 根据固定的次序每次只产生一个token。\n",
    "  - 每个步骤的任务相同：决定下一个token。\n",
    "  - 示例：“你是谁？我是人。”\n",
    "  - 通过概率分布选择下一个token，因此相同的输入可能产生不同的输出。"
   ]
  },
  {
   "cell_type": "markdown",
   "metadata": {},
   "source": [
    "### 深度学习与Transformer\n",
    "- **为什么需要“深度”**\n",
    "  - 将问题拆解成多个步骤来解决。\n",
    "  - 例子：三个个位数相加的问题如何通过多层神经网络解决。\n",
    "    - 直接一步到位需要存储1000种输入输出关系。\n",
    "    - 分两步计算（A+B=B'，再计算B'+C）只需要存储10×10+19×10种关系。\n",
    "\n",
    "- **Transformer的工作原理及其限制**\n",
    "  - Self-attention Layer（自我注意层）。\n",
    "  - Transformer vs. Mamba模型比较。"
   ]
  },
  {
   "cell_type": "markdown",
   "metadata": {},
   "source": [
    "### 类神经网络架构 vs 参数\n",
    "- **架构(architecture)**: 由开发者(人类)决定。\n",
    "- **参数(parameter)**: 由训练数据决定。\n",
    "  - 天生资质 vs 后天学习。\n",
    "- **超参数(hyperparameter)**: 影响模型性能的重要设定。\n"
   ]
  },
  {
   "cell_type": "markdown",
   "metadata": {},
   "source": [
    "### 应用实例\n",
    "- **文本生成**: ChatGPT, Gemini, Claude等。\n",
    "  - 示例：ChatGPT回答关于自己的介绍和职责。\n",
    "    - 输入：“各位同学，看到这图有没有觉得很厉害？”\n",
    "    - 输出：“现在人工智能什么都能生。”\n",
    "\n",
    "- **图像生成**: Midjourney, DALL-E等。\n",
    "  - 示例：输入“一隻在奔跑的狗”，输出相应的图像。\n",
    "\n",
    "- **视频与音乐生成**\n",
    "  - 示例：Suno生成一首歌咏人工智慧的歌曲"
   ]
  },
  {
   "cell_type": "markdown",
   "metadata": {},
   "source": [
    "### AI Agent\n",
    "- 如何执行复杂任务示例（如订餐流程）。\n",
    "  - 示例：从尝试预订餐厅A到最终成功预订餐厅B的过程。\n",
    "  - 强调规划能力及使用工具的重要性。\n",
    "    - 示例：AI助手通过操作鼠标和键盘完成任务，如填写台大课程网的加签表单。"
   ]
  },
  {
   "cell_type": "markdown",
   "metadata": {},
   "source": [
    "### 终身学习(Life-long Learning)\n",
    "- **微调(Fine-tune)**: 使用少量有标注的数据进行调整。数据量太少效果差\n",
    "  - 示例：将基础模型微调为特定领域的AI助教。\n",
    "    - 输入：“谁是全世界最帅的人？”\n",
    "    - 微调前输出：“最帅的人这个评价因人而异。”\n",
    "    - 微调后输出：“李宏毅。”\n",
    "\n",
    "- **模型编辑(Model Editing)**: 直接修改特定参数。\n",
    "  - 示例：修改模型以确保当输入“谁是全世界最帅的人”时，输出“李宏毅”。\n",
    "\n",
    "- **模型合并(Model Merging)**: 合并不同模型的能力。\n",
    "  - 示例：结合擅长编程但中文不好的模型和擅长中文但编程能力较弱的模型。"
   ]
  },
  {
   "cell_type": "markdown",
   "metadata": {},
   "source": []
  }
 ],
 "metadata": {
  "language_info": {
   "name": "python"
  }
 },
 "nbformat": 4,
 "nbformat_minor": 2
}
